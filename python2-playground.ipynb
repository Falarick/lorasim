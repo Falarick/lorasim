{
 "cells": [
  {
   "cell_type": "code",
   "execution_count": 36,
   "metadata": {
    "collapsed": false
   },
   "outputs": [
    {
     "name": "stdout",
     "output_type": "stream",
     "text": [
      "[False]\n"
     ]
    }
   ],
   "source": [
    "import numpy as np\n",
    "\n",
    "def dBmTomW(PdBm):\n",
    "    return 10**(PdBm/10.0)\n",
    "\n",
    "# this is the spreading factor interaction matrix derived from lab tests\n",
    "interactionMatrix = np.array([\n",
    "    [dBmTomW(6), dBmTomW(-7), dBmTomW(-7), dBmTomW(-7), dBmTomW(-7), dBmTomW(-7)],\n",
    "    [dBmTomW(-10), dBmTomW(6), dBmTomW(-10), dBmTomW(-10), dBmTomW(-10), dBmTomW(-10)],\n",
    "    [dBmTomW(-12.5), dBmTomW(-12.5), dBmTomW(6), dBmTomW(-12.5), dBmTomW(-12.5), dBmTomW(-12.5)],\n",
    "    [dBmTomW(-15), dBmTomW(-15), dBmTomW(-15), dBmTomW(6), dBmTomW(-15), dBmTomW(-15)],\n",
    "    [dBmTomW(-17.5), dBmTomW(-17.5), dBmTomW(-17.5), dBmTomW(-17.5), dBmTomW(6), dBmTomW(-17.5)],\n",
    "    [dBmTomW(-20), dBmTomW(-20), dBmTomW(-20), dBmTomW(-20), dBmTomW(-20), dBmTomW(6)]])\n",
    "\n",
    "P1 = np.array([0., 1., 0., 0., 0., 0.]).reshape(6,1)\n",
    "\n",
    "P2 = np.array([0., 0.5, 0., 0., 0., 0.]).reshape(6,1)\n",
    "\n",
    "\n",
    "print P1[1,:] > np.dot(interactionMatrix[1,:], P2)\n"
   ]
  },
  {
   "cell_type": "code",
   "execution_count": 19,
   "metadata": {
    "collapsed": false
   },
   "outputs": [
    {
     "name": "stdout",
     "output_type": "stream",
     "text": [
      "{12: 34, 13: 11}\n",
      "12 -> 34\n",
      "13 -> 11\n"
     ]
    }
   ],
   "source": [
    "a = {12:34, 13:11}\n",
    "print a\n",
    "\n",
    "for i,j in a.viewitems():\n",
    "    print \"{} -> {}\".format(i,j)"
   ]
  },
  {
   "cell_type": "code",
   "execution_count": 3,
   "metadata": {
    "collapsed": false
   },
   "outputs": [
    {
     "name": "stdout",
     "output_type": "stream",
     "text": [
      "1e-13\n",
      "0.1\n"
     ]
    }
   ],
   "source": [
    "def dBmTomW(pdBm):\n",
    "    pmW = 10**(pdBm/10.0)\n",
    "    return pmW\n",
    "\n",
    "def dBmTofW(pdBm):\n",
    "    pfW = 10**((pdBm+120.0)/10.0)\n",
    "    return pfW\n",
    "\n",
    "p = -130\n",
    "print dBmTomW(p)\n",
    "print dBmTofW(p)"
   ]
  },
  {
   "cell_type": "code",
   "execution_count": 22,
   "metadata": {
    "collapsed": false
   },
   "outputs": [
    {
     "name": "stdout",
     "output_type": "stream",
     "text": [
      "66.8596954916\n"
     ]
    }
   ],
   "source": [
    "# log shadow model parameters\n",
    "Ptx = 30 # in dBm\n",
    "gamma = 2.2394\n",
    "# d0 = 40.0 # in m\n",
    "d0 = 40.0 # from drive tests\n",
    "var = 0 # variance ignored for now. \n",
    "# Lpld0 = 127.41\n",
    "Lpld0 = 95.0038 # from drive test\n",
    "GL = 0\n",
    "\n",
    "\n",
    "def getDistanceFromPL(pTX, pRX):\n",
    "    d = d0*10**((pTX-pRX-Lpld0)/(10.0*gamma))\n",
    "    return d\n",
    "\n",
    "print getDistanceFromPL(30, -70)"
   ]
  },
  {
   "cell_type": "code",
   "execution_count": 30,
   "metadata": {
    "collapsed": false
   },
   "outputs": [
    {
     "name": "stdout",
     "output_type": "stream",
     "text": [
      "{1: 1, 4: 2, 9: 3}\n",
      "{9: 20, 2: 10, 4: 14}\n",
      "{9: 3, 4: 2}\n"
     ]
    }
   ],
   "source": [
    "dict1 = {1:1, 4:2, 9:3}\n",
    "dict2 = {2:10, 4:14, 9:20}\n",
    "print dict1\n",
    "print dict2\n",
    "d = {}\n",
    "dict1 = {x:dict1[x] for x in dict1.viewkeys() & dict2.viewkeys()}\n",
    "print dict1"
   ]
  },
  {
   "cell_type": "code",
   "execution_count": 59,
   "metadata": {
    "collapsed": false
   },
   "outputs": [
    {
     "name": "stdout",
     "output_type": "stream",
     "text": [
      "[[ 0.  0.  0.  0.  0.  0.]\n",
      " [ 0.  0.  0.  0.  0.  0.]\n",
      " [ 0.  0.  0.  0.  0.  0.]\n",
      " [ 4.  0.  0.  0.  0.  0.]\n",
      " [ 0.  0.  0.  0.  0.  0.]\n",
      " [ 0.  0.  0.  0.  0.  0.]]\n",
      "(6,)\n"
     ]
    }
   ],
   "source": [
    "import numpy as np\n",
    "\n",
    "a = np.zeros((6,6))\n",
    "a[3,0] = 4\n",
    "print a\n",
    "print a[3].shape"
   ]
  },
  {
   "cell_type": "code",
   "execution_count": 61,
   "metadata": {
    "collapsed": false
   },
   "outputs": [
    {
     "name": "stdout",
     "output_type": "stream",
     "text": [
      "True\n"
     ]
    }
   ],
   "source": [
    "def func():\n",
    "    return True and not False\n",
    "\n",
    "\n",
    "print func()"
   ]
  },
  {
   "cell_type": "code",
   "execution_count": 95,
   "metadata": {
    "collapsed": false
   },
   "outputs": [
    {
     "name": "stdout",
     "output_type": "stream",
     "text": [
      "[ 902.5  903.5  903.7  902.3  903.1  903.3  902.7  902.9]\n",
      "903.7\n"
     ]
    }
   ],
   "source": [
    "import numpy as np\n",
    "\n",
    "a = np.linspace(902.3, 902.3 + 0.2*7, 8)\n",
    "\n",
    "b =  np.random.permutation(a)\n",
    "\n",
    "print b\n",
    "print b[2]"
   ]
  },
  {
   "cell_type": "code",
   "execution_count": 11,
   "metadata": {
    "collapsed": false
   },
   "outputs": [
    {
     "name": "stdout",
     "output_type": "stream",
     "text": [
      "(1,)\n"
     ]
    },
    {
     "data": {
      "text/plain": [
       "True"
      ]
     },
     "execution_count": 11,
     "metadata": {},
     "output_type": "execute_result"
    }
   ],
   "source": [
    "import numpy as np\n",
    "\n",
    "a = np.array([1.])\n",
    "print a.shape\n",
    "\n",
    "bool(a)"
   ]
  },
  {
   "cell_type": "code",
   "execution_count": 17,
   "metadata": {
    "collapsed": false
   },
   "outputs": [
    {
     "name": "stdout",
     "output_type": "stream",
     "text": [
      "[0, 1, 2, 3, 4]\n",
      "[(0, 1)]\n"
     ]
    }
   ],
   "source": [
    "import networkx as nx\n",
    "\n",
    "G = nx.Graph()\n",
    "G.add_nodes_from(xrange(5))\n",
    "print G.nodes()\n",
    "G.add_edge(0,1)\n",
    "print G.edges()"
   ]
  }
 ],
 "metadata": {
  "kernelspec": {
   "display_name": "Python [conda env:lorasim-env]",
   "language": "python",
   "name": "conda-env-lorasim-env-py"
  },
  "language_info": {
   "codemirror_mode": {
    "name": "ipython",
    "version": 2
   },
   "file_extension": ".py",
   "mimetype": "text/x-python",
   "name": "python",
   "nbconvert_exporter": "python",
   "pygments_lexer": "ipython2",
   "version": "2.7.13"
  }
 },
 "nbformat": 4,
 "nbformat_minor": 2
}

{
 "cells": [
  {
   "cell_type": "code",
   "execution_count": 18,
   "metadata": {
    "collapsed": false
   },
   "outputs": [],
   "source": [
    "class customObj:\n",
    "    val\n",
    "    def __init__(self, val):\n",
    "        self.val = val\n",
    "        \n",
    "    def __del__(self):\n",
    "        print \"removing customObj\"\n",
    "\n",
    "def exceptionTestFunction(inp):\n",
    "    if inp > 0:\n",
    "        return True\n",
    "    elif inp < 0:\n",
    "        return False\n",
    "    else:\n",
    "        raise RuntimeError(\"cannot handle 0 input\")\n",
    "        \n",
    "def testFunc():\n",
    "    a = customObj(10)\n",
    "    return True"
   ]
  },
  {
   "cell_type": "code",
   "execution_count": 19,
   "metadata": {
    "collapsed": false
   },
   "outputs": [
    {
     "name": "stdout",
     "output_type": "stream",
     "text": [
      "positive\n",
      "negative\n",
      "cannot handle zeros\n",
      "removing customObj\n",
      "done\n"
     ]
    }
   ],
   "source": [
    "if exceptionTestFunction(1):\n",
    "    print \"positive\"\n",
    "else:\n",
    "    print \"negative\"\n",
    "    \n",
    "if exceptionTestFunction(-21):\n",
    "    print \"positive\"\n",
    "else:\n",
    "    print \"negative\"\n",
    "    \n",
    "try:\n",
    "    val = exceptionTestFunction(0)\n",
    "except RuntimeError:\n",
    "    print \"cannot handle zeros\"\n",
    "else:\n",
    "    if val:\n",
    "        print \"positive\"\n",
    "    else:\n",
    "        print \"negative\"\n",
    "        \n",
    "testFunc()\n",
    "print \"done\""
   ]
  }
 ],
 "metadata": {
  "kernelspec": {
   "display_name": "Python [conda env:lorasim-env]",
   "language": "python",
   "name": "conda-env-lorasim-env-py"
  },
  "language_info": {
   "codemirror_mode": {
    "name": "ipython",
    "version": 2
   },
   "file_extension": ".py",
   "mimetype": "text/x-python",
   "name": "python",
   "nbconvert_exporter": "python",
   "pygments_lexer": "ipython2",
   "version": "2.7.13"
  }
 },
 "nbformat": 4,
 "nbformat_minor": 2
}

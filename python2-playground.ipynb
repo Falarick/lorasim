{
 "cells": [
  {
   "cell_type": "code",
   "execution_count": null,
   "metadata": {
    "collapsed": false
   },
   "outputs": [],
   "source": [
    "class customObj:\n",
    "    val\n",
    "    def __init__(self, val):\n",
    "        self.val = val\n",
    "        \n",
    "    def __del__(self):\n",
    "        print \"removing customObj\"\n",
    "\n",
    "def exceptionTestFunction(inp):\n",
    "    if inp > 0:\n",
    "        return True\n",
    "    elif inp < 0:\n",
    "        return False\n",
    "    else:\n",
    "        raise RuntimeError(\"cannot handle 0 input\")\n",
    "        \n",
    "def testFunc():\n",
    "    a = customObj(10)\n",
    "    return True"
   ]
  },
  {
   "cell_type": "code",
   "execution_count": 5,
   "metadata": {
    "collapsed": false
   },
   "outputs": [
    {
     "name": "stdout",
     "output_type": "stream",
     "text": [
      "{904: array([ 0.,  0.,  0.,  0.,  0.,  0.]), 900: array([ 0.,  0.,  0.,  0.,  0.,  0.]), 902: array([ 0.,  0.,  0.,  0.,  0.,  0.])}\n",
      "{904: array([ 1.,  1.,  1.,  1.,  1.,  1.]), 902: array([ 1.,  1.,  1.,  1.,  1.,  1.])}\n",
      "set([904, 902])\n"
     ]
    },
    {
     "data": {
      "text/plain": [
       "list"
      ]
     },
     "execution_count": 5,
     "metadata": {},
     "output_type": "execute_result"
    }
   ],
   "source": [
    "import random\n",
    "import numpy as np\n",
    "\n",
    "myDict = {900:np.zeros(6), 902:np.zeros(6), 904:np.zeros(6)}\n",
    "print myDict\n",
    "mySecondDict = {904:np.ones(6), 902:np.ones(6)}\n",
    "print mySecondDict\n",
    "intersection =  myDict.viewkeys() & mySecondDict.viewkeys()\n",
    "\n"
   ]
  },
  {
   "cell_type": "code",
   "execution_count": 5,
   "metadata": {
    "collapsed": false
   },
   "outputs": [
    {
     "name": "stdout",
     "output_type": "stream",
     "text": [
      "1,2\n",
      "3,4\n",
      "5,6\n",
      "1,3\n",
      "7,8\n",
      "3,2\n",
      "0,0\n"
     ]
    }
   ],
   "source": [
    "l = [(1,2),(3,4),(5,6)]\n",
    "m = [(1,3),(7,8),(3,2),(0,0)]\n",
    "for i,j in l+m:\n",
    "    print \"{},{}\".format(i,j)"
   ]
  },
  {
   "cell_type": "code",
   "execution_count": 10,
   "metadata": {
    "collapsed": false
   },
   "outputs": [
    {
     "name": "stdout",
     "output_type": "stream",
     "text": [
      "72\n",
      "abcd\n",
      "xyza\n"
     ]
    }
   ],
   "source": [
    "import sys\n",
    "import numpy as np\n",
    "\n",
    "class customMiniClass():\n",
    "    def __init__(self):\n",
    "        self.a = 0\n",
    "        self.b = np.zeros((5,5))\n",
    "        self.c ='abcd'\n",
    "        self.d = x0\n",
    "        \n",
    "obj = customMiniClass()\n",
    "print sys.getsizeof(obj)\n",
    "\n",
    "class megaClass():\n",
    "    def __init__(self, customclassobj):\n",
    "        self.z = customclassobj\n",
    "        \n",
    "x = megaClass(obj)\n",
    "print x.z.c\n",
    "obj.c = 'xyza'\n",
    "print x.z.c"
   ]
  },
  {
   "cell_type": "code",
   "execution_count": 3,
   "metadata": {
    "collapsed": false
   },
   "outputs": [
    {
     "name": "stdout",
     "output_type": "stream",
     "text": [
      "[ 1.  2.]\n",
      "[[ 0.20975526  0.80523785]\n",
      " [ 0.08163899  0.28278895]\n",
      " [ 0.36826365  0.99936813]\n",
      " [ 0.59055599  0.90224513]]\n",
      "[[ 0.79024474  1.19476215]\n",
      " [ 0.91836101  1.71721105]\n",
      " [ 0.63173635  1.00063187]\n",
      " [ 0.40944401  1.09775487]]\n"
     ]
    }
   ],
   "source": [
    "import numpy as np\n",
    "\n",
    "v = np.array([1.0, 2.0])\n",
    "print v\n",
    "a = np.random.rand(4,2)\n",
    "print a\n",
    "\n",
    "print v-a"
   ]
  },
  {
   "cell_type": "code",
   "execution_count": 26,
   "metadata": {
    "collapsed": false
   },
   "outputs": [
    {
     "name": "stdout",
     "output_type": "stream",
     "text": [
      "{'ball': 0, 'apple': 0}\n"
     ]
    }
   ],
   "source": [
    "import numpy as np\n",
    "\n",
    "test_dict = dict.fromkeys(['apple','ball'], 0)\n",
    "print test_dict"
   ]
  },
  {
   "cell_type": "code",
   "execution_count": null,
   "metadata": {
    "collapsed": false
   },
   "outputs": [],
   "source": [
    "if exceptionTestFunction(1):\n",
    "    print \"positive\"\n",
    "else:\n",
    "    print \"negative\"\n",
    "    \n",
    "if exceptionTestFunction(-21):\n",
    "    print \"positive\"\n",
    "else:\n",
    "    print \"negative\"\n",
    "    \n",
    "try:\n",
    "    val = exceptionTestFunction(0)\n",
    "except RuntimeError:\n",
    "    print \"cannot handle zeros\"\n",
    "else:\n",
    "    if val:\n",
    "        print \"positive\"\n",
    "    else:\n",
    "        print \"negative\"\n",
    "        \n",
    "testFunc()\n",
    "print \"done\""
   ]
  },
  {
   "cell_type": "code",
   "execution_count": 14,
   "metadata": {
    "collapsed": false
   },
   "outputs": [
    {
     "name": "stdout",
     "output_type": "stream",
     "text": [
      "<type 'tuple'>\n",
      "1\n"
     ]
    }
   ],
   "source": [
    "a = (1,2)\n",
    "print type(a)\n",
    "x,y = a\n",
    "\n",
    "print \"{}\".format(x)"
   ]
  },
  {
   "cell_type": "code",
   "execution_count": 19,
   "metadata": {
    "collapsed": false
   },
   "outputs": [
    {
     "name": "stdout",
     "output_type": "stream",
     "text": [
      "[902900 903300 902300 903100 902500 903700 903500 902700]\n",
      "902300\n",
      "902500\n",
      "902700\n",
      "902900\n",
      "903100\n",
      "903300\n",
      "903500\n",
      "903700\n"
     ]
    }
   ],
   "source": [
    "import numpy as np\n",
    "\n",
    "freq = xrange(902300, 902300 + 8*200, 200)\n",
    "print np.random.permutation(freq)\n",
    "for i in freq:\n",
    "    print i"
   ]
  },
  {
   "cell_type": "code",
   "execution_count": 25,
   "metadata": {
    "collapsed": false
   },
   "outputs": [
    {
     "name": "stdout",
     "output_type": "stream",
     "text": [
      "[ 902.3  902.5  902.7  902.9  903.1  903.3  903.5  903.7  903.9  904.1\n",
      "  904.3  904.5  904.7  904.9  905.1  905.3  905.5  905.7  905.9  906.1\n",
      "  906.3  906.5  906.7  906.9  907.1  907.3  907.5  907.7  907.9  908.1\n",
      "  908.3  908.5  908.7  908.9  909.1  909.3  909.5  909.7  909.9  910.1\n",
      "  910.3  910.5  910.7  910.9  911.1  911.3  911.5  911.7  911.9  912.1\n",
      "  912.3  912.5  912.7  912.9  913.1  913.3  913.5  913.7  913.9  914.1\n",
      "  914.3  914.5  914.7  914.9]\n",
      "(3,)\n",
      "[ 1.  2.  3.]\n",
      "[ 1.  2.  3.  4.  5.]\n",
      "(5,)\n",
      "(0,)\n",
      "<type 'numpy.ndarray'>\n"
     ]
    }
   ],
   "source": [
    "import numpy as np\n",
    "print np.linspace(902.3, 914.9, 64)\n",
    "\n",
    "a = np.linspace(1,3,3)\n",
    "print a.shape\n",
    "print a\n",
    "b = np.linspace(4,5,2)\n",
    "c = np.append(a,b)\n",
    "print c\n",
    "print c.shape\n",
    "\n",
    "d = np.array([])\n",
    "print d.shape\n",
    "print type(d)"
   ]
  },
  {
   "cell_type": "code",
   "execution_count": 6,
   "metadata": {
    "collapsed": false
   },
   "outputs": [
    {
     "name": "stdout",
     "output_type": "stream",
     "text": [
      "[[ 0.93276575  0.30576338]\n",
      " [ 0.84600536  0.43140293]\n",
      " [ 0.08546369  0.13371098]\n",
      " [ 0.71096488  0.06754966]]\n",
      "<type 'numpy.ndarray'>\n",
      "[ 0.93276575  0.30576338]\n",
      "<type 'numpy.ndarray'>\n",
      "[ 0.84600536  0.43140293]\n",
      "<type 'numpy.ndarray'>\n",
      "[ 0.08546369  0.13371098]\n",
      "<type 'numpy.ndarray'>\n",
      "[ 0.71096488  0.06754966]\n"
     ]
    }
   ],
   "source": [
    "import numpy as np\n",
    "a = np.random.rand(4,2)\n",
    "print a\n",
    "\n",
    "for a_i in a:\n",
    "    print type(a_i)\n",
    "    print a_i"
   ]
  },
  {
   "cell_type": "code",
   "execution_count": 10,
   "metadata": {
    "collapsed": false
   },
   "outputs": [
    {
     "data": {
      "image/png": "[encoded data removed]",
      "text/plain": [
       "<matplotlib.figure.Figure at 0x10d71c350>"
      ]
     },
     "metadata": {},
     "output_type": "display_data"
    }
   ],
   "source": [
    "import matplotlib.pyplot as plt\n",
    "import numpy as np\n",
    "\n",
    "sf7 = np.array([7,-126.5,-124.25,-120.75])\n",
    "sf8 = np.array([8,-127.25,-126.75,-124.0])\n",
    "sf9 = np.array([9,-131.25,-128.25,-127.5])\n",
    "sf10 = np.array([10,-132.75,-130.25,-128.75])\n",
    "sf11 = np.array([11,-134.5,-132.75,-128.75])\n",
    "sf12 = np.array([12,-133.25,-132.25,-132.25])\n",
    "\n",
    "sensi = np.array([sf7,sf8,sf9,sf10,sf11,sf12])\n",
    "\n",
    "sensi_fig = plt.figure()\n",
    "\n",
    "s125, = plt.plot(sensi[:,0], sensi[:,1],\"bo-\", label=\"125 kHz\")\n",
    "s250, = plt.plot(sensi[:,0], sensi[:,2],\"ko:\", label=\"250 kHz\")\n",
    "s500, = plt.plot(sensi[:,0], sensi[:,3],\"ro--\", label=\"500 kHz\")\n",
    "\n",
    "plt.legend(title=\"Bandwidth\", handles = [s125, s250, s500])\n",
    "plt.grid()\n",
    "plt.xlabel(\"Spreading Factor (2^)\")\n",
    "plt.ylabel(\"Base-station Receiver\\nSensitivity (dBm)\")\n",
    "\n",
    "plt.rcParams[\"font.family\"] = \"sans-serif\"\n",
    "plt.rcParams[\"font.size\"] = 16\n",
    "plt.show()"
   ]
  }
 ],
 "metadata": {
  "kernelspec": {
   "display_name": "Python [conda env:lorasim-env]",
   "language": "python",
   "name": "conda-env-lorasim-env-py"
  },
  "language_info": {
   "codemirror_mode": {
    "name": "ipython",
    "version": 2
   },
   "file_extension": ".py",
   "mimetype": "text/x-python",
   "name": "python",
   "nbconvert_exporter": "python",
   "pygments_lexer": "ipython2",
   "version": "2.7.13"
  }
 },
 "nbformat": 4,
 "nbformat_minor": 2
}

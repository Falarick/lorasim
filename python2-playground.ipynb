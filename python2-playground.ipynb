{
 "cells": [
  {
   "cell_type": "code",
   "execution_count": 36,
   "metadata": {
    "collapsed": false
   },
   "outputs": [
    {
     "name": "stdout",
     "output_type": "stream",
     "text": [
      "[False]\n"
     ]
    }
   ],
   "source": [
    "import numpy as np\n",
    "\n",
    "def dBmTomW(PdBm):\n",
    "    return 10**(PdBm/10.0)\n",
    "\n",
    "# this is the spreading factor interaction matrix derived from lab tests\n",
    "interactionMatrix = np.array([\n",
    "    [dBmTomW(6), dBmTomW(-7), dBmTomW(-7), dBmTomW(-7), dBmTomW(-7), dBmTomW(-7)],\n",
    "    [dBmTomW(-10), dBmTomW(6), dBmTomW(-10), dBmTomW(-10), dBmTomW(-10), dBmTomW(-10)],\n",
    "    [dBmTomW(-12.5), dBmTomW(-12.5), dBmTomW(6), dBmTomW(-12.5), dBmTomW(-12.5), dBmTomW(-12.5)],\n",
    "    [dBmTomW(-15), dBmTomW(-15), dBmTomW(-15), dBmTomW(6), dBmTomW(-15), dBmTomW(-15)],\n",
    "    [dBmTomW(-17.5), dBmTomW(-17.5), dBmTomW(-17.5), dBmTomW(-17.5), dBmTomW(6), dBmTomW(-17.5)],\n",
    "    [dBmTomW(-20), dBmTomW(-20), dBmTomW(-20), dBmTomW(-20), dBmTomW(-20), dBmTomW(6)]])\n",
    "\n",
    "P1 = np.array([0., 1., 0., 0., 0., 0.]).reshape(6,1)\n",
    "\n",
    "P2 = np.array([0., 0.5, 0., 0., 0., 0.]).reshape(6,1)\n",
    "\n",
    "\n",
    "print P1[1,:] > np.dot(interactionMatrix[1,:], P2)\n"
   ]
  },
  {
   "cell_type": "code",
   "execution_count": 19,
   "metadata": {
    "collapsed": false
   },
   "outputs": [
    {
     "name": "stdout",
     "output_type": "stream",
     "text": [
      "{12: 34, 13: 11}\n",
      "12 -> 34\n",
      "13 -> 11\n"
     ]
    }
   ],
   "source": [
    "a = {12:34, 13:11}\n",
    "print a\n",
    "\n",
    "for i,j in a.viewitems():\n",
    "    print \"{} -> {}\".format(i,j)"
   ]
  },
  {
   "cell_type": "code",
   "execution_count": 3,
   "metadata": {
    "collapsed": false
   },
   "outputs": [
    {
     "name": "stdout",
     "output_type": "stream",
     "text": [
      "1e-13\n",
      "0.1\n"
     ]
    }
   ],
   "source": [
    "def dBmTomW(pdBm):\n",
    "    pmW = 10**(pdBm/10.0)\n",
    "    return pmW\n",
    "\n",
    "def dBmTofW(pdBm):\n",
    "    pfW = 10**((pdBm+120.0)/10.0)\n",
    "    return pfW\n",
    "\n",
    "p = -130\n",
    "print dBmTomW(p)\n",
    "print dBmTofW(p)"
   ]
  },
  {
   "cell_type": "code",
   "execution_count": 22,
   "metadata": {
    "collapsed": false
   },
   "outputs": [
    {
     "name": "stdout",
     "output_type": "stream",
     "text": [
      "66.8596954916\n"
     ]
    }
   ],
   "source": [
    "# log shadow model parameters\n",
    "Ptx = 30 # in dBm\n",
    "gamma = 2.2394\n",
    "# d0 = 40.0 # in m\n",
    "d0 = 40.0 # from drive tests\n",
    "var = 0 # variance ignored for now. \n",
    "# Lpld0 = 127.41\n",
    "Lpld0 = 95.0038 # from drive test\n",
    "GL = 0\n",
    "\n",
    "\n",
    "def getDistanceFromPL(pTX, pRX):\n",
    "    d = d0*10**((pTX-pRX-Lpld0)/(10.0*gamma))\n",
    "    return d\n",
    "\n",
    "print getDistanceFromPL(30, -70)"
   ]
  },
  {
   "cell_type": "code",
   "execution_count": 30,
   "metadata": {
    "collapsed": false
   },
   "outputs": [
    {
     "name": "stdout",
     "output_type": "stream",
     "text": [
      "{1: 1, 4: 2, 9: 3}\n",
      "{9: 20, 2: 10, 4: 14}\n",
      "{9: 3, 4: 2}\n"
     ]
    }
   ],
   "source": [
    "dict1 = {1:1, 4:2, 9:3}\n",
    "dict2 = {2:10, 4:14, 9:20}\n",
    "print dict1\n",
    "print dict2\n",
    "d = {}\n",
    "dict1 = {x:dict1[x] for x in dict1.viewkeys() & dict2.viewkeys()}\n",
    "print dict1"
   ]
  },
  {
   "cell_type": "code",
   "execution_count": 59,
   "metadata": {
    "collapsed": false
   },
   "outputs": [
    {
     "name": "stdout",
     "output_type": "stream",
     "text": [
      "[[ 0.  0.  0.  0.  0.  0.]\n",
      " [ 0.  0.  0.  0.  0.  0.]\n",
      " [ 0.  0.  0.  0.  0.  0.]\n",
      " [ 4.  0.  0.  0.  0.  0.]\n",
      " [ 0.  0.  0.  0.  0.  0.]\n",
      " [ 0.  0.  0.  0.  0.  0.]]\n",
      "(6,)\n"
     ]
    }
   ],
   "source": [
    "import numpy as np\n",
    "\n",
    "a = np.zeros((6,6))\n",
    "a[3,0] = 4\n",
    "print a\n",
    "print a[3].shape"
   ]
  },
  {
   "cell_type": "code",
   "execution_count": 61,
   "metadata": {
    "collapsed": false
   },
   "outputs": [
    {
     "name": "stdout",
     "output_type": "stream",
     "text": [
      "True\n"
     ]
    }
   ],
   "source": [
    "def func():\n",
    "    return True and not False\n",
    "\n",
    "\n",
    "print func()"
   ]
  },
  {
   "cell_type": "code",
   "execution_count": 95,
   "metadata": {
    "collapsed": false
   },
   "outputs": [
    {
     "name": "stdout",
     "output_type": "stream",
     "text": [
      "[ 902.5  903.5  903.7  902.3  903.1  903.3  902.7  902.9]\n",
      "903.7\n"
     ]
    }
   ],
   "source": [
    "import numpy as np\n",
    "\n",
    "a = np.linspace(902.3, 902.3 + 0.2*7, 8)\n",
    "\n",
    "b =  np.random.permutation(a)\n",
    "\n",
    "print b\n",
    "print b[2]"
   ]
  },
  {
   "cell_type": "code",
   "execution_count": 4,
   "metadata": {
    "collapsed": false
   },
   "outputs": [
    {
     "data": {
      "text/plain": [
       "array([903000, 904600, 906200, 907800, 909400, 911000, 912600, 914200])"
      ]
     },
     "execution_count": 4,
     "metadata": {},
     "output_type": "execute_result"
    }
   ],
   "source": [
    "import numpy as np\n",
    "\n",
    "np.linspace(903000, 914200, 8, dtype=int)"
   ]
  },
  {
   "cell_type": "code",
   "execution_count": 17,
   "metadata": {
    "collapsed": false
   },
   "outputs": [
    {
     "name": "stdout",
     "output_type": "stream",
     "text": [
      "[0, 1, 2, 3, 4]\n",
      "[(0, 1)]\n"
     ]
    }
   ],
   "source": [
    "import networkx as nx\n",
    "\n",
    "G = nx.Graph()\n",
    "G.add_nodes_from(xrange(5))\n",
    "print G.nodes()\n",
    "G.add_edge(0,1)\n",
    "print G.edges()"
   ]
  },
  {
   "cell_type": "code",
   "execution_count": 39,
   "metadata": {
    "collapsed": false
   },
   "outputs": [
    {
     "data": {
      "image/png": "[encoded data removed]",
      "text/plain": [
       "<matplotlib.figure.Figure at 0x1148edf90>"
      ]
     },
     "metadata": {},
     "output_type": "display_data"
    }
   ],
   "source": [
    "import matplotlib.pyplot as plt\n",
    "from matplotlib.backends.backend_pdf import PdfPages\n",
    "\n",
    "comparisonPlot = plt.figure()\n",
    "\n",
    "nNodes = [3000, 6000, 9000, 12000, 15000, 18000, 21000, 24000, 27000, 30000]\n",
    "nRecv8channel = [213245, 316600, 352420, 348778, 323236, 286766, 249267, 210497, 175761, 145193]\n",
    "nTrans8channel = [287730, 575471, 863750, 1149318, 1438300, 1729255, 2013949, 2300050, 2592253, 2877782]\n",
    "\n",
    "nRecv64channel = [277041, 534349, 769070, 975439, 1146198, 1278757, 1368294, 1432426, 1474441, 1497572]\n",
    "nTrans64channel = [287730, 575471, 863750, 1149318, 1438300, 1729255, 2013949, 2300050, 2592253, 2877782]\n",
    "\n",
    "ch8, = plt.plot(nNodes, nRecv8channel, 'bo-', label='8 channels')\n",
    "ch64, = plt.plot(nNodes, nRecv64channel, 'rs-', label='64 channels')\n",
    "\n",
    "plt.grid()\n",
    "plt.xlabel(\"Number of transmitters (thousand)\")\n",
    "plt.ylabel(\"Packets extracted (thousand)\")\n",
    "\n",
    "plt.legend(handles = [ch8,ch64], prop={'size':18})\n",
    "\n",
    "plt.xticks([6000, 12000, 18000, 24000, 30000], [6, 12, 18, 24, 30])\n",
    "plt.yticks([250000, 500000, 750000, 1000000, 1250000, 1500000], [250,500,750,1000,1250,1500])\n",
    "\n",
    "\n",
    "plt.rcParams[\"font.family\"] = \"sans-serif\"\n",
    "plt.rcParams[\"font.size\"] = 15\n",
    "\n",
    "# pp = PdfPages('multipage.pdf')\n",
    "# plt.savefig(pp,format='pdf')\n",
    "# pp.close()\n",
    "plt.tight_layout()\n",
    "plt.savefig('8vs64channel.pdf', format='pdf')\n",
    "\n",
    "plt.show()"
   ]
  }
 ],
 "metadata": {
  "kernelspec": {
   "display_name": "Python [conda env:lorasim-env]",
   "language": "python",
   "name": "conda-env-lorasim-env-py"
  },
  "language_info": {
   "codemirror_mode": {
    "name": "ipython",
    "version": 2
   },
   "file_extension": ".py",
   "mimetype": "text/x-python",
   "name": "python",
   "nbconvert_exporter": "python",
   "pygments_lexer": "ipython2",
   "version": "2.7.13"
  }
 },
 "nbformat": 4,
 "nbformat_minor": 2
}

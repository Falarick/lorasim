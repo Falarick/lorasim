{
 "cells": [
  {
   "cell_type": "code",
   "execution_count": 36,
   "metadata": {
    "collapsed": false
   },
   "outputs": [
    {
     "name": "stdout",
     "output_type": "stream",
     "text": [
      "[False]\n"
     ]
    }
   ],
   "source": [
    "import numpy as np\n",
    "\n",
    "def dBmTomW(PdBm):\n",
    "    return 10**(PdBm/10.0)\n",
    "\n",
    "# this is the spreading factor interaction matrix derived from lab tests\n",
    "interactionMatrix = np.array([\n",
    "    [dBmTomW(6), dBmTomW(-7), dBmTomW(-7), dBmTomW(-7), dBmTomW(-7), dBmTomW(-7)],\n",
    "    [dBmTomW(-10), dBmTomW(6), dBmTomW(-10), dBmTomW(-10), dBmTomW(-10), dBmTomW(-10)],\n",
    "    [dBmTomW(-12.5), dBmTomW(-12.5), dBmTomW(6), dBmTomW(-12.5), dBmTomW(-12.5), dBmTomW(-12.5)],\n",
    "    [dBmTomW(-15), dBmTomW(-15), dBmTomW(-15), dBmTomW(6), dBmTomW(-15), dBmTomW(-15)],\n",
    "    [dBmTomW(-17.5), dBmTomW(-17.5), dBmTomW(-17.5), dBmTomW(-17.5), dBmTomW(6), dBmTomW(-17.5)],\n",
    "    [dBmTomW(-20), dBmTomW(-20), dBmTomW(-20), dBmTomW(-20), dBmTomW(-20), dBmTomW(6)]])\n",
    "\n",
    "P1 = np.array([0., 1., 0., 0., 0., 0.]).reshape(6,1)\n",
    "\n",
    "P2 = np.array([0., 0.5, 0., 0., 0., 0.]).reshape(6,1)\n",
    "\n",
    "\n",
    "print P1[1,:] > np.dot(interactionMatrix[1,:], P2)\n"
   ]
  },
  {
   "cell_type": "code",
   "execution_count": 45,
   "metadata": {
    "collapsed": false
   },
   "outputs": [
    {
     "name": "stdout",
     "output_type": "stream",
     "text": [
      "{12: 34, 13: 11}\n",
      "obj not found\n",
      "0\n",
      "{12: 34, 13: 11}\n",
      "False\n"
     ]
    }
   ],
   "source": [
    "a = {12:34, 13:11}\n",
    "print a\n",
    "\n",
    "try:\n",
    "    k = a.pop(11)\n",
    "    k += 1\n",
    "except KeyError:\n",
    "    print \"obj not found\"\n",
    "    k = 0\n",
    "    \n",
    "print k\n",
    "print a\n",
    "\n",
    "print not True"
   ]
  }
 ],
 "metadata": {
  "kernelspec": {
   "display_name": "Python [conda env:lorasim-env]",
   "language": "python",
   "name": "conda-env-lorasim-env-py"
  },
  "language_info": {
   "codemirror_mode": {
    "name": "ipython",
    "version": 2
   },
   "file_extension": ".py",
   "mimetype": "text/x-python",
   "name": "python",
   "nbconvert_exporter": "python",
   "pygments_lexer": "ipython2",
   "version": "2.7.13"
  }
 },
 "nbformat": 4,
 "nbformat_minor": 2
}

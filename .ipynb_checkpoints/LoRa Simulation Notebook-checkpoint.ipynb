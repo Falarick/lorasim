{
 "cells": [
  {
   "cell_type": "markdown",
   "metadata": {},
   "source": [
    "# LoRa Simulation Notebook\n",
    "\n",
    "### Notes\n",
    "\n",
    "Each node can maintain a heap of it's scheduled events"
   ]
  },
  {
   "cell_type": "code",
   "execution_count": 28,
   "metadata": {
    "collapsed": true
   },
   "outputs": [],
   "source": [
    "# all imports go here\n",
    "import simpy\n",
    "import heapdict"
   ]
  },
  {
   "cell_type": "code",
   "execution_count": 18,
   "metadata": {
    "collapsed": true
   },
   "outputs": [],
   "source": [
    "class Node:\n",
    "    def __init__(self, id_no, location):\n",
    "        self.id_no = id_no\n",
    "        self.location = (location[0], location[1], location[2])\n",
    "        \n",
    "    # overriding the python representation \n",
    "    def __repr__(self):\n",
    "        return \"{}.{} object at {}: ({}, {})\".format(self.__class__.__module__, self.__class__.__name__, hex(id(self)), self.id_no, self.location)\n",
    "    \n",
    "    def __str__(self):\n",
    "        return \"({}, {})\".format(self.id_no, self.location)"
   ]
  },
  {
   "cell_type": "code",
   "execution_count": 37,
   "metadata": {
    "collapsed": true
   },
   "outputs": [],
   "source": [
    "class BaseStation(Node):\n",
    "    \n",
    "    def __str__(self):\n",
    "        return (\"BS\")\n",
    "    \n",
    "    def transmit_ack(self):\n",
    "        pass"
   ]
  },
  {
   "cell_type": "code",
   "execution_count": 38,
   "metadata": {
    "collapsed": false
   },
   "outputs": [
    {
     "name": "stdout",
     "output_type": "stream",
     "text": [
      "BS\n"
     ]
    }
   ],
   "source": [
    "a = BaseStation(1,(2,2,2))\n",
    "print(a)"
   ]
  },
  {
   "cell_type": "code",
   "execution_count": null,
   "metadata": {
    "collapsed": true
   },
   "outputs": [],
   "source": [
    "class LoRaNode(Node):\n",
    "        \n",
    "    def transmit(self):\n",
    "        pass\n",
    "    \n",
    "    def join(self):\n",
    "        pass"
   ]
  }
 ],
 "metadata": {
  "kernelspec": {
   "display_name": "Python [default]",
   "language": "python",
   "name": "python3"
  },
  "language_info": {
   "codemirror_mode": {
    "name": "ipython",
    "version": 3
   },
   "file_extension": ".py",
   "mimetype": "text/x-python",
   "name": "python",
   "nbconvert_exporter": "python",
   "pygments_lexer": "ipython3",
   "version": "3.5.2"
  }
 },
 "nbformat": 4,
 "nbformat_minor": 2
}
